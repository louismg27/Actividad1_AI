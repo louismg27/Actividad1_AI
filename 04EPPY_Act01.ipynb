{
 "cells": [
  {
   "cell_type": "markdown",
   "id": "intellectual-humor",
   "metadata": {},
   "source": [
    "<img src=\"../img/viu_logo.png\" width=\"200\">\n",
    "\n",
    "## 04EPPY - Actividad 1\n",
    "\n",
    "25% de la Nota Final\n",
    "\n",
    "### Fecha Entrega\n",
    "- Convocatoria 1 - 10/03/2022\n",
    "- Convocatoria 2 - 17/03/2022\n",
    "\n",
    "### Instrucciones:\n",
    "- Crear un notebook de Python3 que servirá como entrega de la actividad.\n",
    "- Separar bien los apartados propuestos con celdas Markdown.\n",
    "- Mantener una estructura limpia, comentando código y secuenciando los apartados con el código correspondiente que resuelva la actividad.\n",
    "- Como criterio de evaluación se tendrá en cuenta el resultado, la consecución del mismo, estilo, comentarios y adecuación.\n",
    "- No está permitido compartir los resultados ni el código en ninguno de los foros. \n",
    "\n",
    "### Entrega:\n",
    "- Un solo documento en formato notebook: .ipynb\n",
    "- Para hacer la entrega hay que hacer un tag al repositorio en una fecha anterior a la fecha de entrega de la actividad, y pegar el enlace al tag del repositorio en la actividad de blackboard."
   ]
  },
  {
   "cell_type": "markdown",
   "id": "southwest-learning",
   "metadata": {},
   "source": [
    "### A1 - Ficheros - 15%\n",
    "- Descarga datos mediante la siguiente url https://raw.githubusercontent.com/grammakov/USA-cities-and-states/master/us_cities_states_counties.csv\n",
    "- Imprimir el número de ciudades que tiene el estado de Florida\n",
    "- Resolver el problema de dos maneras distintas, una usando pandas y otra sin usar ninguna librería (solo Python standard)"
   ]
  },
  {
   "cell_type": "markdown",
   "source": [
    "## Forma 1: Numero de ciudades que tiene el estado de Florida"
   ],
   "metadata": {
    "collapsed": false
   }
  },
  {
   "cell_type": "code",
   "execution_count": 28,
   "outputs": [
    {
     "name": "stdout",
     "output_type": "stream",
     "text": [
      "El numero de ciudades que tiene el estado de Florida es: 537\n"
     ]
    }
   ],
   "source": [
    "import pandas as pd\n",
    "# Reemplaza 'tu_archivo.csv' con la ruta o nombre de tu archivo CSV\n",
    "nombre_archivo = 'countries.csv'\n",
    "\n",
    "# Lee el archivo CSV en un DataFrame\n",
    "df = pd.read_csv(nombre_archivo,delimiter='|')\n",
    "# Filtrar las ciudades que pertenecen a Florida\n",
    "florida_cities = df[df['State full'] == 'Florida']\n",
    "# Contar cuántas ciudades pertenecen a Florida\n",
    "num_cities_in_florida = florida_cities['City'].nunique()\n",
    "print(f'El numero de ciudades que tiene el estado de Florida es: {num_cities_in_florida}')"
   ],
   "metadata": {
    "collapsed": false,
    "ExecuteTime": {
     "start_time": "2023-09-11T14:13:55.140217Z",
     "end_time": "2023-09-11T14:13:55.202824Z"
    }
   }
  },
  {
   "cell_type": "markdown",
   "source": [
    "## Forma 2: Numero de ciudades que tiene el estado de Florida"
   ],
   "metadata": {
    "collapsed": false
   }
  },
  {
   "cell_type": "code",
   "execution_count": 29,
   "outputs": [
    {
     "name": "stdout",
     "output_type": "stream",
     "text": [
      "El número de ciudades que tiene el estado de Florida es: 537\n"
     ]
    }
   ],
   "source": [
    "import csv\n",
    "#Espeicificamos la ruta o nombre de tu archivo CSV\n",
    "nombre_archivo = 'countries.csv'\n",
    "\n",
    "# Creamos una lista para almacenar los datos del archivo CSV\n",
    "datos = []\n",
    "\n",
    "# Abrir el archivo CSV y leer los datos\n",
    "with open(nombre_archivo, mode='r', newline='') as archivo:\n",
    "    lector_csv = csv.reader(archivo, delimiter='|')\n",
    "    encabezados = next(lector_csv)  # Leer la fila de encabezados si es necesario\n",
    "\n",
    "    for fila in lector_csv:\n",
    "        datos.append(fila)\n",
    "\n",
    "#Establecemos la posicion en la que se encuentra el estado de Florida\n",
    "columna_estado = 2\n",
    "\n",
    "# Utilizamos un conjunto para almacenar las ciudades únicas en Florida\n",
    "ciudades_unicas_en_florida = set()\n",
    "\n",
    "# Filtrar las ciudades que pertenecen a Florida y agregarlas al conjunto\n",
    "for fila in datos:\n",
    "    if fila[columna_estado] == 'Florida':\n",
    "        ciudades_unicas_en_florida.add(fila[0])  # Consideramos que la primera columna poisicion' contiene el nombre de la ciudad\n",
    "\n",
    "# Contar cuántas ciudades únicas pertenecen a Florida\n",
    "num_cities_in_florida = len(ciudades_unicas_en_florida)\n",
    "\n",
    "print(f'El número de ciudades que tiene el estado de Florida es: {num_cities_in_florida}')"
   ],
   "metadata": {
    "collapsed": false,
    "ExecuteTime": {
     "start_time": "2023-09-11T14:13:57.884335Z",
     "end_time": "2023-09-11T14:13:58.039419Z"
    }
   }
  },
  {
   "cell_type": "markdown",
   "id": "controlling-referral",
   "metadata": {
    "ExecuteTime": {
     "start_time": "2023-09-11T13:38:52.607037Z",
     "end_time": "2023-09-11T13:38:52.660788Z"
    }
   },
   "source": [
    "### A2 - 15%\n",
    "- Genera una matriz con valores aleatorios de 0 a 100 de dimensiones 16x16\n",
    "- Calcula los siguentes estadísticos en la matriz anterior, por fila (el resultado de cada uno debe ser un array de dimensiones 16x1)\n",
    "  - Suma de los elementos de cada fila\n",
    "  - Media de los elementos de cada fila\n",
    "  - Valores mínimos de cada fila\n",
    "  - Valores máximos de cada fila"
   ],
   "outputs": [],
   "execution_count": 25
  },
  {
   "cell_type": "markdown",
   "source": [
    "## Genera una matriz con valores aleatorios de 0 a 100 de dimensiones 16x16"
   ],
   "metadata": {
    "collapsed": false
   }
  },
  {
   "cell_type": "code",
   "execution_count": 130,
   "outputs": [
    {
     "name": "stdout",
     "output_type": "stream",
     "text": [
      "[[  0  91  76  14  92  85  87  52  61   4  30  13  22  38  41  50]\n",
      " [ 87  69   8  27  64  80  45  67  59  75   2  28  89  84  50  58]\n",
      " [  9  84  47  13  87  38  15  70   7   2  57   4  64  44  47  34]\n",
      " [ 99  89  49  38  86  26  30  17  30  82  50  11  21  35  63  42]\n",
      " [ 21  83  46  81   4  96  71   4  36  11   7  83  48  39  78  42]\n",
      " [ 51  42   0  68  13  55  34  20  90  88  38  70  72  69  17  96]\n",
      " [ 47  87  29  90  62  53  26  37  68   4  22  76  34  30  61  28]\n",
      " [ 97  86  74  95  60  99 100   7  55  48  81  77   2  69  51  68]\n",
      " [ 26  93   3   8  19  20  99  93  54  94  36  91  59   9  61  60]\n",
      " [ 10  22   1  10  10  48  27  32  71  80  53  63  87  70  88  17]\n",
      " [ 90  72  16  44  62  67   1  14  38   4  47  43  35  17  96  87]\n",
      " [ 72  83  21  10  55  11  41  17  70  77  77  64   5  40  43   7]\n",
      " [ 16  44  33  94  52  52  15   6  80  77  37  46   3  60  14   0]\n",
      " [ 26  32  85   1  67  91  80  93  77  25  63  68  44  48  69  58]\n",
      " [  4  47  32  33  98  40  36  24  34  65  14  43  68  76  43  35]\n",
      " [ 66  13  82  30  57   3  68   1  10  57  96  32  71  23  67  17]]\n"
     ]
    }
   ],
   "source": [
    "import numpy as np\n",
    "\n",
    "matriz_aleatoria = np.random.randint(0, 101, (16, 16))\n",
    "\n",
    "print(matriz_aleatoria)"
   ],
   "metadata": {
    "collapsed": false,
    "ExecuteTime": {
     "start_time": "2023-09-14T14:51:46.646053Z",
     "end_time": "2023-09-14T14:51:46.667077Z"
    }
   }
  },
  {
   "cell_type": "markdown",
   "source": [
    "## - Calcula los siguentes estadísticos en la matriz anterior, por fila (el resultado de cada uno debe ser un array de dimensiones 16x1)\n",
    "- Suma de los elementos de cada fila\n",
    "- Media de los elementos de cada fila\n",
    "- Valores mínimos de cada fila\n",
    "- Valores máximos de cada fila"
   ],
   "metadata": {
    "collapsed": false
   }
  },
  {
   "cell_type": "code",
   "execution_count": 131,
   "outputs": [],
   "source": [
    "import numpy as np"
   ],
   "metadata": {
    "collapsed": false,
    "ExecuteTime": {
     "start_time": "2023-09-14T14:51:54.599315Z",
     "end_time": "2023-09-14T14:51:54.611172Z"
    }
   }
  },
  {
   "cell_type": "code",
   "execution_count": 132,
   "outputs": [],
   "source": [
    "# Calculamos la suma de los elementos de cada fila\n",
    "suma_por_fila = np.sum(matriz_aleatoria, axis=1, keepdims=True)"
   ],
   "metadata": {
    "collapsed": false,
    "ExecuteTime": {
     "start_time": "2023-09-14T14:51:55.064519Z",
     "end_time": "2023-09-14T14:51:55.077208Z"
    }
   }
  },
  {
   "cell_type": "code",
   "execution_count": 133,
   "outputs": [],
   "source": [
    "# Calculamos la media de los elementos de cada fila\n",
    "media_por_fila = np.mean(matriz_aleatoria, axis=1, keepdims=True)"
   ],
   "metadata": {
    "collapsed": false,
    "ExecuteTime": {
     "start_time": "2023-09-14T14:51:55.248249Z",
     "end_time": "2023-09-14T14:51:55.270426Z"
    }
   }
  },
  {
   "cell_type": "code",
   "execution_count": 134,
   "outputs": [],
   "source": [
    "# Calcular los valores mínimos de cada fila\n",
    "minimo_por_fila = np.min(matriz_aleatoria, axis=1, keepdims=True)"
   ],
   "metadata": {
    "collapsed": false,
    "ExecuteTime": {
     "start_time": "2023-09-14T14:51:55.453854Z",
     "end_time": "2023-09-14T14:51:55.472047Z"
    }
   }
  },
  {
   "cell_type": "code",
   "execution_count": 135,
   "outputs": [],
   "source": [
    "# Calculamoa los valores máximos de cada fila\n",
    "maximo_por_fila = np.max(matriz_aleatoria, axis=1, keepdims=True)"
   ],
   "metadata": {
    "collapsed": false,
    "ExecuteTime": {
     "start_time": "2023-09-14T14:51:56.007070Z",
     "end_time": "2023-09-14T14:51:56.015601Z"
    }
   }
  },
  {
   "cell_type": "code",
   "execution_count": 136,
   "outputs": [
    {
     "name": "stdout",
     "output_type": "stream",
     "text": [
      "Suma por fila:\n",
      "[[ 756]\n",
      " [ 892]\n",
      " [ 622]\n",
      " [ 768]\n",
      " [ 750]\n",
      " [ 823]\n",
      " [ 754]\n",
      " [1069]\n",
      " [ 825]\n",
      " [ 689]\n",
      " [ 733]\n",
      " [ 693]\n",
      " [ 629]\n",
      " [ 927]\n",
      " [ 692]\n",
      " [ 693]]\n"
     ]
    }
   ],
   "source": [
    "# Imprimimos los resultados\n",
    "print(\"Suma por fila:\")\n",
    "print(suma_por_fila)"
   ],
   "metadata": {
    "collapsed": false,
    "ExecuteTime": {
     "start_time": "2023-09-14T14:51:58.778712Z",
     "end_time": "2023-09-14T14:51:58.795616Z"
    }
   }
  },
  {
   "cell_type": "code",
   "execution_count": 137,
   "outputs": [
    {
     "name": "stdout",
     "output_type": "stream",
     "text": [
      "\n",
      "Media por fila:\n",
      "[[47.25  ]\n",
      " [55.75  ]\n",
      " [38.875 ]\n",
      " [48.    ]\n",
      " [46.875 ]\n",
      " [51.4375]\n",
      " [47.125 ]\n",
      " [66.8125]\n",
      " [51.5625]\n",
      " [43.0625]\n",
      " [45.8125]\n",
      " [43.3125]\n",
      " [39.3125]\n",
      " [57.9375]\n",
      " [43.25  ]\n",
      " [43.3125]]\n"
     ]
    }
   ],
   "source": [
    "print(\"\\nMedia por fila:\")\n",
    "print(media_por_fila)"
   ],
   "metadata": {
    "collapsed": false,
    "ExecuteTime": {
     "start_time": "2023-09-14T14:51:59.716810Z",
     "end_time": "2023-09-14T14:51:59.725323Z"
    }
   }
  },
  {
   "cell_type": "code",
   "execution_count": 138,
   "outputs": [
    {
     "name": "stdout",
     "output_type": "stream",
     "text": [
      "\n",
      "Valor mínimo por fila:\n",
      "[[ 0]\n",
      " [ 2]\n",
      " [ 2]\n",
      " [11]\n",
      " [ 4]\n",
      " [ 0]\n",
      " [ 4]\n",
      " [ 2]\n",
      " [ 3]\n",
      " [ 1]\n",
      " [ 1]\n",
      " [ 5]\n",
      " [ 0]\n",
      " [ 1]\n",
      " [ 4]\n",
      " [ 1]]\n"
     ]
    }
   ],
   "source": [
    "print(\"\\nValor mínimo por fila:\")\n",
    "print(minimo_por_fila)"
   ],
   "metadata": {
    "collapsed": false,
    "ExecuteTime": {
     "start_time": "2023-09-14T14:52:00.290676Z",
     "end_time": "2023-09-14T14:52:00.310491Z"
    }
   }
  },
  {
   "cell_type": "code",
   "execution_count": 139,
   "outputs": [
    {
     "name": "stdout",
     "output_type": "stream",
     "text": [
      "\n",
      "Valor máximo por fila:\n",
      "[[ 92]\n",
      " [ 89]\n",
      " [ 87]\n",
      " [ 99]\n",
      " [ 96]\n",
      " [ 96]\n",
      " [ 90]\n",
      " [100]\n",
      " [ 99]\n",
      " [ 88]\n",
      " [ 96]\n",
      " [ 83]\n",
      " [ 94]\n",
      " [ 93]\n",
      " [ 98]\n",
      " [ 96]]\n"
     ]
    }
   ],
   "source": [
    "print(\"\\nValor máximo por fila:\")\n",
    "print(maximo_por_fila)"
   ],
   "metadata": {
    "collapsed": false,
    "ExecuteTime": {
     "start_time": "2023-09-14T14:52:00.878594Z",
     "end_time": "2023-09-14T14:52:00.882106Z"
    }
   }
  },
  {
   "cell_type": "markdown",
   "id": "improving-championship",
   "metadata": {
    "ExecuteTime": {
     "start_time": "2023-09-11T13:38:15.851229Z",
     "end_time": "2023-09-11T13:38:15.863747Z"
    }
   },
   "source": [
    "### A3 - 10%\n",
    "- Explica y expón, con un ejemplo propio, el broadcasting de NumPy"
   ],
   "outputs": [],
   "execution_count": 23
  },
  {
   "cell_type": "markdown",
   "source": [
    "-El broadcasting como funcion principal se enfoca en el ajuste automatico de dimensiones para que las operaciones puedan realizarse de manera eficiente sin necesidad de crear copias adicionales de datos"
   ],
   "metadata": {
    "collapsed": false
   }
  },
  {
   "cell_type": "code",
   "execution_count": 46,
   "outputs": [],
   "source": [
    "\n",
    "import numpy as np\n",
    "\n",
    "\n",
    "A = np.array([[1, 56, 3], [4, 52, 6]])\n",
    "B = np.array([14, 12, 60])\n"
   ],
   "metadata": {
    "collapsed": false,
    "ExecuteTime": {
     "start_time": "2023-09-11T14:39:46.484881Z",
     "end_time": "2023-09-11T14:39:46.497881Z"
    }
   }
  },
  {
   "cell_type": "markdown",
   "source": [
    "-En este caso la matriz B es compactible con la matriz A porque sus dimensiones se pueden expandir de manera compactible, Entonces Numpy lo que hace es expandir B automaticamente a la forma (2,3) repitiendo los valores [10,20,30] a lo largo de filas, finalmente se realiza la suma elemento por elemento entre A y B cuyo resultado es:"
   ],
   "metadata": {
    "collapsed": false
   }
  },
  {
   "cell_type": "code",
   "execution_count": 47,
   "outputs": [
    {
     "name": "stdout",
     "output_type": "stream",
     "text": [
      "[[15 68 63]\n",
      " [18 64 66]]\n"
     ]
    }
   ],
   "source": [
    "resultado = A + B\n",
    "print(resultado)"
   ],
   "metadata": {
    "collapsed": false,
    "ExecuteTime": {
     "start_time": "2023-09-11T14:39:49.066448Z",
     "end_time": "2023-09-11T14:39:49.072441Z"
    }
   }
  },
  {
   "cell_type": "markdown",
   "id": "announced-mortality",
   "metadata": {},
   "source": [
    "### A4 - 10%\n",
    "- Resolución de dos sistemas de ecuaciones\n",
    "    - $ A : \\begin{cases} -9y +  4x = 20 \\\\ -7y + 16x = 80                         \\end{cases}$\n",
    "    \n",
    "    - $ B : \\begin{cases} x - 2y + 3z = 7 \\\\ 2x + y + z = 4 \\\\ -3x + 2y -2z = -10 \\end{cases}$"
   ]
  },
  {
   "cell_type": "code",
   "execution_count": 52,
   "outputs": [
    {
     "name": "stdout",
     "output_type": "stream",
     "text": [
      "X = -0.0\n",
      "Y = 5.0\n"
     ]
    }
   ],
   "source": [
    "import numpy as np\n",
    "\n",
    "# Establecemos los coeficientes de las variables X e Y en la forma AX = B\n",
    "A = np.array([[-9, 4], [-7, 16]])\n",
    "B = np.array([20, 80])\n",
    "\n",
    "# Resolvemos el sistema de ecuaciones para X e Y\n",
    "X, Y = np.linalg.solve(A, B)\n",
    "\n",
    "print(\"X =\", X)\n",
    "print(\"Y =\", Y)"
   ],
   "metadata": {
    "collapsed": false,
    "ExecuteTime": {
     "start_time": "2023-09-11T15:24:26.725701Z",
     "end_time": "2023-09-11T15:24:26.733361Z"
    }
   }
  },
  {
   "cell_type": "code",
   "execution_count": 54,
   "outputs": [
    {
     "name": "stdout",
     "output_type": "stream",
     "text": [
      "Resultado:\n",
      "X = 2.0\n",
      "Y = -0.9999999999999998\n",
      "Z = 1.0000000000000002\n"
     ]
    }
   ],
   "source": [
    "import numpy as np\n",
    "\n",
    "# Establecemos los coeficientes de las variables X, Y y Z en la forma AX = B\n",
    "A = np.array([[1, -2, 3], [2, 1, 1], [-3, 2, -2]])\n",
    "B = np.array([7, 4, -10])\n",
    "\n",
    "# Resolvemos el sistema de ecuaciones para X, Y y Z\n",
    "solucion = np.linalg.solve(A, B)\n",
    "\n",
    "X = solucion[0]\n",
    "Y = solucion[1]\n",
    "Z = solucion[2]\n",
    "\n",
    "print(\"Resultado:\")\n",
    "print(\"X =\", X)\n",
    "print(\"Y =\", Y)\n",
    "print(\"Z =\", Z)"
   ],
   "metadata": {
    "collapsed": false,
    "ExecuteTime": {
     "start_time": "2023-09-11T15:28:21.644699Z",
     "end_time": "2023-09-11T15:28:21.661528Z"
    }
   }
  },
  {
   "cell_type": "code",
   "execution_count": null,
   "outputs": [],
   "source": [],
   "metadata": {
    "collapsed": false
   }
  },
  {
   "cell_type": "markdown",
   "id": "grave-summer",
   "metadata": {},
   "source": [
    "### A5 - 15%\n",
    "- Crear un DataFrame de dimensiones 10x10, con números aleatorios en el rango `[0,20]`\n",
    "- Reemplazar todos aquellos elementos menores de 5 por NaN\n",
    "- Averiguar cuantos elementos tienen Nan por fila"
   ]
  },
  {
   "cell_type": "code",
   "execution_count": 55,
   "outputs": [
    {
     "name": "stdout",
     "output_type": "stream",
     "text": [
      "    0   1   2   3   4   5   6   7   8   9\n",
      "0   3   9  17  19   7   2   0  11   4   0\n",
      "1   4   6   1   0  14   8  11   8  16   2\n",
      "2  17  16  14   9   0  11  17  11  15   8\n",
      "3  11  16  20  12  10  16   0   2  12  16\n",
      "4   8  12   7  14  10   8   8  12  12  20\n",
      "5  10  12   0  20  17   1  10  16  19  18\n",
      "6  12  19  15  11   4   8   5  20   4   2\n",
      "7   7   0  18  17   7  17  12   5  20  18\n",
      "8  13  11  18  14   9   9  13  12   8  19\n",
      "9  12  18  18  19   2   0   7   1   4   1\n"
     ]
    }
   ],
   "source": [
    "import pandas as pd\n",
    "import numpy as np\n",
    "\n",
    "# Generar una matriz 10x10 de números aleatorios en el rango [0, 20]\n",
    "data = np.random.randint(0, 21, size=(10, 10))\n",
    "\n",
    "# Crear un DataFrame a partir de la matriz de datos\n",
    "df = pd.DataFrame(data)\n",
    "\n",
    "# Puedes imprimir el DataFrame para verificar los resultados\n",
    "print(df)"
   ],
   "metadata": {
    "collapsed": false,
    "ExecuteTime": {
     "start_time": "2023-09-11T15:32:18.179487Z",
     "end_time": "2023-09-11T15:32:18.205958Z"
    }
   }
  },
  {
   "cell_type": "code",
   "execution_count": 67,
   "outputs": [
    {
     "name": "stdout",
     "output_type": "stream",
     "text": [
      "      0     1     2     3     4     5     6     7     8     9\n",
      "0   NaN   9.0  17.0  19.0   7.0   NaN   NaN  11.0   NaN   NaN\n",
      "1   NaN   6.0   NaN   NaN  14.0   8.0  11.0   8.0  16.0   NaN\n",
      "2  17.0  16.0  14.0   9.0   NaN  11.0  17.0  11.0  15.0   8.0\n",
      "3  11.0  16.0  20.0  12.0  10.0  16.0   NaN   NaN  12.0  16.0\n",
      "4   8.0  12.0   7.0  14.0  10.0   8.0   8.0  12.0  12.0  20.0\n",
      "5  10.0  12.0   NaN  20.0  17.0   NaN  10.0  16.0  19.0  18.0\n",
      "6  12.0  19.0  15.0  11.0   NaN   8.0   5.0  20.0   NaN   NaN\n",
      "7   7.0   NaN  18.0  17.0   7.0  17.0  12.0   5.0  20.0  18.0\n",
      "8  13.0  11.0  18.0  14.0   9.0   9.0  13.0  12.0   8.0  19.0\n",
      "9  12.0  18.0  18.0  19.0   NaN   NaN   7.0   NaN   NaN   NaN\n"
     ]
    }
   ],
   "source": [
    "# Reemplazamos elementos menores de 5 por NaN\n",
    "df[df < 5] = np.nan\n",
    "print(df)"
   ],
   "metadata": {
    "collapsed": false,
    "ExecuteTime": {
     "start_time": "2023-09-11T15:42:50.509972Z",
     "end_time": "2023-09-11T15:42:50.528570Z"
    }
   }
  },
  {
   "cell_type": "code",
   "execution_count": 63,
   "outputs": [
    {
     "name": "stdout",
     "output_type": "stream",
     "text": [
      "Fila 0: 5 elementos NaN\n",
      "Fila 1: 4 elementos NaN\n",
      "Fila 2: 1 elementos NaN\n",
      "Fila 3: 2 elementos NaN\n",
      "Fila 4: 0 elementos NaN\n",
      "Fila 5: 2 elementos NaN\n",
      "Fila 6: 3 elementos NaN\n",
      "Fila 7: 1 elementos NaN\n",
      "Fila 8: 0 elementos NaN\n",
      "Fila 9: 5 elementos NaN\n"
     ]
    }
   ],
   "source": [
    "# Averiguamos cuántos elementos tienen NaN por fila\n",
    "elementos_nan_por_fila = df.isna().sum(axis=1)\n",
    "for i, cantidad_nan in enumerate(elementos_nan_por_fila):\n",
    "    fila_numero = i\n",
    "    print(f\"Fila {fila_numero}: {cantidad_nan} elementos NaN\")"
   ],
   "metadata": {
    "collapsed": false,
    "ExecuteTime": {
     "start_time": "2023-09-11T15:41:07.615454Z",
     "end_time": "2023-09-11T15:41:07.628094Z"
    }
   }
  },
  {
   "cell_type": "markdown",
   "id": "acceptable-manner",
   "metadata": {},
   "source": [
    "### A6 - 20%\n",
    "- Se tienen tres datasets, se adjuntan sus datos como diccionarios\n",
    "  - Students, representa un conjunto de alumnos, con sus nombres, edad y sexo\n",
    "  - Subjects, un conjunto de asignaturas, con su nombre y el semestre en que se imparten\n",
    "  - Marks, un conjunto de notas que han obtenido los alumnos en las asignaturas\n",
    "- Obtener la siguiente información usando Pandas\n",
    "  - El nombre del alumno con la mejor nota, y en que asignatura ha sido\n",
    "  - Cuantos alumnos tienen asignaturas suspendidas en el primer semestre\n",
    "  - La media de edad de los asistentes a la asignatura de Python\n",
    "  - Formar una palabra con las iniciales de los nombres de los estudiantes ordenados por edad\n",
    "- Representar graficamente\n",
    "  - Las notas medias de todos los estudiantes por asignatura, agrupando por sexo\n",
    "  - La densidad bivariable de la edad de los estudiantes frente a sus notas, agrupando por sexo (mostrando los datos de dispersion en la zona central, las curvas de densidad en los ejes)"
   ]
  },
  {
   "cell_type": "code",
   "execution_count": 89,
   "outputs": [],
   "source": [
    "students = {'StudentId': [1,2,3,4,5,6], 'Name' : ['Yael','Thomas','Paula','Orlando','Hannah','Nicole'], 'Age' : [22,31,19,44,39,51], 'Sex' : ['M', 'M', 'F', 'M', 'F', 'F']}\n",
    "subjects = {'SubjectId': [1,2,3], 'Name': ['Python', 'Math', 'DeepLearning'], 'Semester': [1, 1, 2]}\n",
    "marks = {'StudentId' : [2,2,1,3,6,4,4,3,2,5], 'SubjectId' : [1,3,1,2,1,2,3,1,2,1], 'Mark': [6,5,8,3,5,2,7,2,4,6]}"
   ],
   "metadata": {
    "collapsed": false,
    "ExecuteTime": {
     "start_time": "2023-09-14T10:44:17.594945Z",
     "end_time": "2023-09-14T10:44:17.608809Z"
    }
   }
  },
  {
   "cell_type": "markdown",
   "source": [
    "## El nombre del alumno con la mejor nota, y en que asignatura ha sido"
   ],
   "metadata": {
    "collapsed": false
   }
  },
  {
   "cell_type": "code",
   "execution_count": 99,
   "id": "radio-theory",
   "metadata": {
    "ExecuteTime": {
     "start_time": "2023-09-14T13:04:58.471834Z",
     "end_time": "2023-09-14T13:04:58.490435Z"
    }
   },
   "outputs": [
    {
     "name": "stdout",
     "output_type": "stream",
     "text": [
      "Nombre del alumno con la mejor nota: Yael\n",
      "Asignatura en la que ha obtenido la mejor nota: Python\n"
     ]
    }
   ],
   "source": [
    "# Crear DataFrames a partir de los diccionarios\n",
    "df_students = pd.DataFrame(students)\n",
    "df_subjects = pd.DataFrame(subjects)\n",
    "df_marks = pd.DataFrame(marks)\n",
    "# Combinar DataFrames para incluir toda la información en uno solo\n",
    "df_combined = df_students.merge(df_marks, on='StudentId').merge(df_subjects, on='SubjectId')\n",
    "\n",
    "# Encontramos al alumno con la mejor nota haciendo el calculo con .max de la maxima nota\n",
    "mejor_estudiante = df_combined[df_combined['Mark'] == df_combined['Mark'].max()]\n",
    "\n",
    "print(\"Nombre del alumno con la mejor nota:\", mejor_estudiante['Name_x'].iloc[0])\n",
    "print(\"Asignatura en la que ha obtenido la mejor nota:\", mejor_estudiante['Name_y'].iloc[0])"
   ]
  },
  {
   "cell_type": "markdown",
   "source": [
    "## Cuantos alumnos tienen asignaturas suspendidas en el primer semestre"
   ],
   "metadata": {
    "collapsed": false
   }
  },
  {
   "cell_type": "code",
   "execution_count": 98,
   "outputs": [
    {
     "name": "stdout",
     "output_type": "stream",
     "text": [
      "Cantidad de alumnos con asignaturas suspendidas en el primer semestre: 3\n"
     ]
    }
   ],
   "source": [
    "# Filtramos alumnos con asignaturas suspendidas en el primer semestre y con nota menor a 5\n",
    "estudiantes_suspendidos = df_combined[(df_combined['Semester'] == 1) & (df_combined['Mark'] < 5)]\n",
    "# Contar cuántos alumnos tienen asignaturas suspendidas en el primer semestre\n",
    "num_suspended_students = estudiantes_suspendidos['StudentId'].nunique()\n",
    "\n",
    "print(\"Cantidad de alumnos con asignaturas suspendidas en el primer semestre:\", num_suspended_students)"
   ],
   "metadata": {
    "collapsed": false,
    "ExecuteTime": {
     "start_time": "2023-09-14T13:03:42.796143Z",
     "end_time": "2023-09-14T13:03:42.809806Z"
    }
   }
  },
  {
   "cell_type": "markdown",
   "source": [
    "## La media de edad de los asistentes a la asignatura de Python"
   ],
   "metadata": {
    "collapsed": false
   }
  },
  {
   "cell_type": "code",
   "execution_count": 96,
   "outputs": [
    {
     "name": "stdout",
     "output_type": "stream",
     "text": [
      "La media de edad de los asistentes a la asignatura de Python: 32.4\n"
     ]
    }
   ],
   "source": [
    "# Filtramos estudiantes que asisten a la asignatura de Python\n",
    "python_students = df_combined[df_combined['Name_y'] == 'Python']\n",
    "\n",
    "# Calculamos la media de edad de los estudiantes que asisten a Python\n",
    "mean_age_python_students = python_students['Age'].mean()\n",
    "\n",
    "print(\"La media de edad de los asistentes a la asignatura de Python:\", mean_age_python_students)"
   ],
   "metadata": {
    "collapsed": false,
    "ExecuteTime": {
     "start_time": "2023-09-14T13:03:06.887399Z",
     "end_time": "2023-09-14T13:03:06.895406Z"
    }
   }
  },
  {
   "cell_type": "markdown",
   "source": [
    "## Formar una palabra con las iniciales de los nombres de los estudiantes ordenados por edad"
   ],
   "metadata": {
    "collapsed": false
   }
  },
  {
   "cell_type": "code",
   "execution_count": 103,
   "outputs": [
    {
     "name": "stdout",
     "output_type": "stream",
     "text": [
      "Palabra formada con las iniciales de los nombres de los estudiantes ordenados por edad: PPYTTTHOON\n"
     ]
    }
   ],
   "source": [
    "# Ordenamos los estudiantes por edad en orden ascendente\n",
    "df_sorted = df_combined.sort_values(by='Age')\n",
    "# Extraemos las iniciales de los nombres ordenados\n",
    "initials = df_sorted['Name_x'].apply(lambda name: name[0])\n",
    "# Formamos la palabra concatenando las iniciales\n",
    "palabra = ''.join(initials)\n",
    "print(\"Palabra formada con las iniciales de los nombres de los estudiantes ordenados por edad:\", palabra)"
   ],
   "metadata": {
    "collapsed": false,
    "ExecuteTime": {
     "start_time": "2023-09-14T13:10:43.312038Z",
     "end_time": "2023-09-14T13:10:43.328390Z"
    }
   }
  },
  {
   "cell_type": "markdown",
   "source": [
    "## Representar Graficamente: Las notas medias de todos los estudiantes por asignatura, agrupando por sexo"
   ],
   "metadata": {
    "collapsed": false
   }
  },
  {
   "cell_type": "code",
   "execution_count": 105,
   "outputs": [
    {
     "name": "stdout",
     "output_type": "stream",
     "text": [
      "Sex                  F    M\n",
      "Name_y                     \n",
      "DeepLearning       NaN  6.0\n",
      "Math          3.000000  3.0\n",
      "Python        4.333333  7.0\n"
     ]
    },
    {
     "data": {
      "text/plain": "<Figure size 1000x600 with 1 Axes>",
      "image/png": "[encoded data removed]"
     },
     "metadata": {},
     "output_type": "display_data"
    }
   ],
   "source": [
    "import matplotlib.pyplot as plt\n",
    "# Calculamos las notas medias por asignatura y sexo\n",
    "mean_marks_by_subject_sex = df_combined.groupby(['Name_y', 'Sex'])['Mark'].mean().unstack()\n",
    "print(mean_marks_by_subject_sex)\n",
    "\n",
    "# Creamos un gráfico de barras\n",
    "mean_marks_by_subject_sex.plot(kind='bar', figsize=(10, 6))\n",
    "plt.title('Notas Medias por Asignatura y Sexo')\n",
    "plt.xlabel('Asignatura')\n",
    "plt.ylabel('Nota Media')\n",
    "plt.legend(title='Sexo')\n",
    "\n",
    "# Mostrar el gráfico\n",
    "plt.show()"
   ],
   "metadata": {
    "collapsed": false,
    "ExecuteTime": {
     "start_time": "2023-09-14T13:24:40.692501Z",
     "end_time": "2023-09-14T13:24:40.810557Z"
    }
   }
  },
  {
   "cell_type": "markdown",
   "source": [
    "## Representar Graficamente : La densidad bivariable de la edad de los estudiantes frente a sus notas, agrupando por sexo (mostrando los datos de dispersion en la zona central, las curvas de densidad en los ejes)"
   ],
   "metadata": {
    "collapsed": false
   }
  },
  {
   "cell_type": "code",
   "execution_count": 118,
   "outputs": [
    {
     "name": "stderr",
     "output_type": "stream",
     "text": [
      "C:\\Users\\Luis\\.conda\\envs\\pythonProject2\\lib\\site-packages\\seaborn\\_oldcore.py:1498: FutureWarning: is_categorical_dtype is deprecated and will be removed in a future version. Use isinstance(dtype, CategoricalDtype) instead\n",
      "  if pd.api.types.is_categorical_dtype(vector):\n",
      "C:\\Users\\Luis\\.conda\\envs\\pythonProject2\\lib\\site-packages\\seaborn\\_oldcore.py:1498: FutureWarning: is_categorical_dtype is deprecated and will be removed in a future version. Use isinstance(dtype, CategoricalDtype) instead\n",
      "  if pd.api.types.is_categorical_dtype(vector):\n",
      "C:\\Users\\Luis\\.conda\\envs\\pythonProject2\\lib\\site-packages\\seaborn\\_oldcore.py:1498: FutureWarning: is_categorical_dtype is deprecated and will be removed in a future version. Use isinstance(dtype, CategoricalDtype) instead\n",
      "  if pd.api.types.is_categorical_dtype(vector):\n",
      "C:\\Users\\Luis\\.conda\\envs\\pythonProject2\\lib\\site-packages\\seaborn\\_oldcore.py:1498: FutureWarning: is_categorical_dtype is deprecated and will be removed in a future version. Use isinstance(dtype, CategoricalDtype) instead\n",
      "  if pd.api.types.is_categorical_dtype(vector):\n",
      "C:\\Users\\Luis\\.conda\\envs\\pythonProject2\\lib\\site-packages\\seaborn\\_oldcore.py:1498: FutureWarning: is_categorical_dtype is deprecated and will be removed in a future version. Use isinstance(dtype, CategoricalDtype) instead\n",
      "  if pd.api.types.is_categorical_dtype(vector):\n",
      "C:\\Users\\Luis\\.conda\\envs\\pythonProject2\\lib\\site-packages\\seaborn\\_oldcore.py:1498: FutureWarning: is_categorical_dtype is deprecated and will be removed in a future version. Use isinstance(dtype, CategoricalDtype) instead\n",
      "  if pd.api.types.is_categorical_dtype(vector):\n",
      "C:\\Users\\Luis\\.conda\\envs\\pythonProject2\\lib\\site-packages\\seaborn\\_oldcore.py:1498: FutureWarning: is_categorical_dtype is deprecated and will be removed in a future version. Use isinstance(dtype, CategoricalDtype) instead\n",
      "  if pd.api.types.is_categorical_dtype(vector):\n",
      "C:\\Users\\Luis\\.conda\\envs\\pythonProject2\\lib\\site-packages\\seaborn\\_oldcore.py:1498: FutureWarning: is_categorical_dtype is deprecated and will be removed in a future version. Use isinstance(dtype, CategoricalDtype) instead\n",
      "  if pd.api.types.is_categorical_dtype(vector):\n",
      "C:\\Users\\Luis\\.conda\\envs\\pythonProject2\\lib\\site-packages\\seaborn\\_oldcore.py:1119: FutureWarning: use_inf_as_na option is deprecated and will be removed in a future version. Convert inf values to NaN before operating instead.\n",
      "  with pd.option_context('mode.use_inf_as_na', True):\n",
      "C:\\Users\\Luis\\.conda\\envs\\pythonProject2\\lib\\site-packages\\seaborn\\_oldcore.py:1498: FutureWarning: is_categorical_dtype is deprecated and will be removed in a future version. Use isinstance(dtype, CategoricalDtype) instead\n",
      "  if pd.api.types.is_categorical_dtype(vector):\n",
      "C:\\Users\\Luis\\.conda\\envs\\pythonProject2\\lib\\site-packages\\seaborn\\_oldcore.py:1498: FutureWarning: is_categorical_dtype is deprecated and will be removed in a future version. Use isinstance(dtype, CategoricalDtype) instead\n",
      "  if pd.api.types.is_categorical_dtype(vector):\n",
      "C:\\Users\\Luis\\.conda\\envs\\pythonProject2\\lib\\site-packages\\seaborn\\_oldcore.py:1498: FutureWarning: is_categorical_dtype is deprecated and will be removed in a future version. Use isinstance(dtype, CategoricalDtype) instead\n",
      "  if pd.api.types.is_categorical_dtype(vector):\n",
      "C:\\Users\\Luis\\.conda\\envs\\pythonProject2\\lib\\site-packages\\seaborn\\_oldcore.py:1498: FutureWarning: is_categorical_dtype is deprecated and will be removed in a future version. Use isinstance(dtype, CategoricalDtype) instead\n",
      "  if pd.api.types.is_categorical_dtype(vector):\n",
      "C:\\Users\\Luis\\.conda\\envs\\pythonProject2\\lib\\site-packages\\seaborn\\_oldcore.py:1119: FutureWarning: use_inf_as_na option is deprecated and will be removed in a future version. Convert inf values to NaN before operating instead.\n",
      "  with pd.option_context('mode.use_inf_as_na', True):\n",
      "C:\\Users\\Luis\\.conda\\envs\\pythonProject2\\lib\\site-packages\\seaborn\\_oldcore.py:1498: FutureWarning: is_categorical_dtype is deprecated and will be removed in a future version. Use isinstance(dtype, CategoricalDtype) instead\n",
      "  if pd.api.types.is_categorical_dtype(vector):\n",
      "C:\\Users\\Luis\\.conda\\envs\\pythonProject2\\lib\\site-packages\\seaborn\\_oldcore.py:1498: FutureWarning: is_categorical_dtype is deprecated and will be removed in a future version. Use isinstance(dtype, CategoricalDtype) instead\n",
      "  if pd.api.types.is_categorical_dtype(vector):\n",
      "C:\\Users\\Luis\\.conda\\envs\\pythonProject2\\lib\\site-packages\\seaborn\\_oldcore.py:1498: FutureWarning: is_categorical_dtype is deprecated and will be removed in a future version. Use isinstance(dtype, CategoricalDtype) instead\n",
      "  if pd.api.types.is_categorical_dtype(vector):\n",
      "C:\\Users\\Luis\\.conda\\envs\\pythonProject2\\lib\\site-packages\\seaborn\\_oldcore.py:1498: FutureWarning: is_categorical_dtype is deprecated and will be removed in a future version. Use isinstance(dtype, CategoricalDtype) instead\n",
      "  if pd.api.types.is_categorical_dtype(vector):\n",
      "C:\\Users\\Luis\\.conda\\envs\\pythonProject2\\lib\\site-packages\\seaborn\\_oldcore.py:1498: FutureWarning: is_categorical_dtype is deprecated and will be removed in a future version. Use isinstance(dtype, CategoricalDtype) instead\n",
      "  if pd.api.types.is_categorical_dtype(vector):\n"
     ]
    },
    {
     "data": {
      "text/plain": "<Figure size 700x700 with 3 Axes>",
      "image/png": "[encoded data removed]"
     },
     "metadata": {},
     "output_type": "display_data"
    }
   ],
   "source": [
    "import matplotlib.pyplot as plt\n",
    "import seaborn as sns\n",
    "# Crear un gráfico de densidad bivariable con dispersión y curvas de densidad en los ejes X-Edad, frente a las notas Y-Mark, agrupado por sexo (hue)\n",
    "sns.set(style=\"whitegrid\")\n",
    "g = sns.JointGrid(data=df_combined, x=\"Age\", y=\"Mark\", hue=\"Sex\", height=7)\n",
    "\n",
    "g.plot(sns.scatterplot, sns.kdeplot)\n",
    "\n",
    "# Personalizamos el gráfico\n",
    "plt.subplots_adjust(top=0.9)\n",
    "g.fig.suptitle('Densidad Bivariable de Edad vs. Notas por Sexo')\n",
    "\n",
    "# Mostramos el gráfico\n",
    "plt.show()"
   ],
   "metadata": {
    "collapsed": false,
    "ExecuteTime": {
     "start_time": "2023-09-14T14:40:30.042995Z",
     "end_time": "2023-09-14T14:40:30.352580Z"
    }
   }
  },
  {
   "cell_type": "markdown",
   "id": "seven-trout",
   "metadata": {},
   "source": [
    "### A7 - 15%\n",
    "- Dadas dos Series de Pandas, implementar una función 'find_not_common' para encontrar los elementos no comunes a ambas Series\n",
    "- Se proveen dos series como referencia, el resultado para este ejemplo debe ser una serie con los elementos [4, 6, 14, 16]"
   ]
  },
  {
   "cell_type": "code",
   "execution_count": 141,
   "id": "residential-empty",
   "metadata": {
    "ExecuteTime": {
     "start_time": "2023-09-14T15:01:22.019720Z",
     "end_time": "2023-09-14T15:01:22.038801Z"
    }
   },
   "outputs": [],
   "source": [
    "p1 = pd.Series([2, 4, 12, 6, 8, 10])\n",
    "p2 = pd.Series([8, 10, 12, 10, 14, 2, 16, 10])\n",
    "# print(find_not_common(p1, p2).equals(pd.Series([4, 6, 14, 16]))) # Esto deberia imprimir True"
   ]
  },
  {
   "cell_type": "code",
   "execution_count": 144,
   "outputs": [
    {
     "name": "stdout",
     "output_type": "stream",
     "text": [
      "[4, 6, 14, 16]\n"
     ]
    }
   ],
   "source": [
    "import pandas as pd\n",
    "\n",
    "def find_not_common(series1, series2):\n",
    "    # Encontrar elementos de la serie1 que no están en la serie 2\n",
    "    series1_not_common = series1[~series1.isin(series2)]\n",
    "\n",
    "    # Encontramos elementos de la serie2 que no están en la serie1\n",
    "    series2_not_common = series2[~series2.isin(series1)]\n",
    "\n",
    "    # Concatenamos los resultados para obtener elementos no comunes\n",
    "    result = pd.concat([series2_not_common, series1_not_common])\n",
    "\n",
    "    # Eliminamos duplicados por si es necesario\n",
    "    result = result.drop_duplicates()\n",
    "\n",
    "    return result\n",
    "\n",
    "result = find_not_common(p1, p2)\n",
    "print(sorted(result.tolist()))"
   ],
   "metadata": {
    "collapsed": false,
    "ExecuteTime": {
     "start_time": "2023-09-14T15:02:26.431183Z",
     "end_time": "2023-09-14T15:02:26.438178Z"
    }
   }
  }
 ],
 "metadata": {
  "kernelspec": {
   "display_name": "Python 3",
   "language": "python",
   "name": "python3"
  },
  "language_info": {
   "codemirror_mode": {
    "name": "ipython",
    "version": 3
   },
   "file_extension": ".py",
   "mimetype": "text/x-python",
   "name": "python",
   "nbconvert_exporter": "python",
   "pygments_lexer": "ipython3",
   "version": "3.8.5"
  }
 },
 "nbformat": 4,
 "nbformat_minor": 5
}
